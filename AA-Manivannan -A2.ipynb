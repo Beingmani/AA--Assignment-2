{
 "cells": [
  {
   "cell_type": "code",
   "execution_count": 191,
   "metadata": {},
   "outputs": [],
   "source": [
    "#Import pupl\n",
    "from pulp import *"
   ]
  },
  {
   "cell_type": "code",
   "execution_count": 192,
   "metadata": {},
   "outputs": [],
   "source": [
    "prob = LpProblem(\"AA Assignment 2\", LpMaximize)\n",
    "solution = []"
   ]
  },
  {
   "cell_type": "code",
   "execution_count": 193,
   "metadata": {},
   "outputs": [],
   "source": [
    "hx1 = LpVariable(\"HX1\")\n",
    "hx2 = LpVariable(\"HX2\")\n",
    "hx3 = LpVariable(\"HX3\")\n",
    "\n",
    "hy1 = LpVariable(\"HY1\")\n",
    "hy2 = LpVariable(\"HY2\")\n",
    "hy3 = LpVariable(\"HY3\")\n",
    "\n",
    "hz1 = LpVariable(\"HZ1\")\n",
    "hz2= LpVariable(\"HZ2\")\n",
    "hz3 = LpVariable(\"HZ3\")\n",
    "\n",
    "p = LpVariable(\"P\")\n",
    "\n",
    "a = LpVariable(\"A\", 0,1)\n",
    "b = LpVariable(\"B\", 0,1)\n",
    "c = LpVariable(\"C\", 0,1)"
   ]
  },
  {
   "cell_type": "code",
   "execution_count": 194,
   "metadata": {},
   "outputs": [],
   "source": [
    "hxPrime1 = LpVariable(\"HXPrime1\", cat = LpBinary)\n",
    "hxPrime2 = LpVariable(\"HXPrime2\", cat = LpBinary)\n",
    "hxPrime3 = LpVariable(\"HXPrime3\", cat = LpBinary)\n",
    "\n",
    "hyPrime1 = LpVariable(\"HYPrime1\", cat = LpBinary)\n",
    "hyPrime2 = LpVariable(\"HYPrime2\", cat = LpBinary)\n",
    "hyPrime3 = LpVariable(\"HYPrime3\", cat = LpBinary)\n",
    "\n",
    "hzPrime1 = LpVariable(\"HZPrime1\", cat = LpBinary)\n",
    "hzPrime2 = LpVariable(\"HZPrime2\", cat = LpBinary)\n",
    "hzPrime3 = LpVariable(\"HZPrime3\", cat = LpBinary)\n",
    "\n",
    "pPrime = LpVariable(\"PPrime\", cat = LpBinary)"
   ]
  },
  {
   "cell_type": "code",
   "execution_count": 195,
   "metadata": {},
   "outputs": [],
   "source": [
    "hab = 5/6*hx1 + 2/3*hy1 - 1/3*hz1 - 1/3\n",
    "\n",
    "hac = 5/6*hx2 + 2/3*hy2 - 1/3*hz2 - 1/3\n",
    "\n",
    "hbc = 5/6*hx3 + 2/3*hy3 - 1/3*hz3 - 1/3"
   ]
  },
  {
   "cell_type": "code",
   "execution_count": 196,
   "metadata": {},
   "outputs": [],
   "source": [
    "y = (hab + hac + hbc)\n",
    "\n",
    "Minimizeprob1 = (7/3 * p) - y \n",
    "Minimizeprob2 = y - 2 * p\n",
    "\n",
    "Maximizeprob1 = 2*p - y\n",
    "Maximizeprob2= y - (7/3 * p)\n",
    "\n",
    "prob += (Maximizeprob1 and Maximizeprob2)\n",
    "# prob += ( Minimizeprob1 and Minimizeprob2)"
   ]
  },
  {
   "cell_type": "code",
   "execution_count": 197,
   "metadata": {},
   "outputs": [],
   "source": [
    "prob += p >= a + b + c\n",
    "prob += p >= 1\n",
    "prob += p <= a + b + c + 1000000*pPrime\n",
    "prob += p <= 1 + 100000*(1-pPrime)"
   ]
  },
  {
   "cell_type": "code",
   "execution_count": 198,
   "metadata": {},
   "outputs": [],
   "source": [
    "prob += hx1 >= a + b \n",
    "prob += hx1 >= 1\n",
    "prob += hx1 <= a + b + 1000000*hxPrime1\n",
    "prob += hx1 <= 1 + 1000000*(1-hxPrime1)"
   ]
  },
  {
   "cell_type": "code",
   "execution_count": 199,
   "metadata": {},
   "outputs": [],
   "source": [
    "prob += hx2 >= a + c\n",
    "prob += hx2 >= 1\n",
    "prob += hx2 <= a + c + 1000000*hxPrime2\n",
    "prob += hx2 <= 1 + 1000000*(1-hxPrime2)"
   ]
  },
  {
   "cell_type": "code",
   "execution_count": 200,
   "metadata": {},
   "outputs": [],
   "source": [
    "prob += hx3 >= b + c\n",
    "prob += hx3 >= 1\n",
    "prob += hx3 <= b + c + 1000000*hxPrime3\n",
    "prob += hx3 <= 1 + 1000000*(1-hxPrime3)"
   ]
  },
  {
   "cell_type": "code",
   "execution_count": 201,
   "metadata": {},
   "outputs": [],
   "source": [
    "prob += hy1 >= a + b\n",
    "prob += hy1 >= 1/2\n",
    "prob += hy1 <= a + b + 1000000*hyPrime1\n",
    "prob += hy1 <= 1/2 + 1000000*(1-hyPrime1)"
   ]
  },
  {
   "cell_type": "code",
   "execution_count": 202,
   "metadata": {},
   "outputs": [],
   "source": [
    "prob += hy2 >= a + c\n",
    "prob += hy2 >= 1/2\n",
    "prob += hy2 <= a + c + 1000000*hyPrime2\n",
    "prob += hy2 <= 1/2 + 1000000*(1-hyPrime2)"
   ]
  },
  {
   "cell_type": "code",
   "execution_count": 203,
   "metadata": {},
   "outputs": [],
   "source": [
    "prob += hy3 >= b + c\n",
    "prob += hy3 >= 1/2\n",
    "prob += hy3 <= b + c + 1000000*hyPrime3\n",
    "prob += hy3 <= 1/2 + 1000000*(1-hyPrime3)"
   ]
  },
  {
   "cell_type": "code",
   "execution_count": 204,
   "metadata": {},
   "outputs": [],
   "source": [
    "prob += hz1 >= a\n",
    "prob += hz1 >= b\n",
    "prob += hz1 >= 1/2\n",
    "prob += hz1 <= a + 1000000*hzPrime1\n",
    "prob += hz1 <= b + 1000000*1-hzPrime1\n",
    "prob += hz1 <= 1/2 + 1000000*(1-hzPrime1)\n",
    "\n",
    "# # prob+= hz1 >= a+10000*hzPrime1\n",
    "# # prob+= hz1 >= b+10000*hzPrime2\n",
    "# prob+= hz1 >= 1/2+10000*hzPrime3\n",
    "\n"
   ]
  },
  {
   "cell_type": "code",
   "execution_count": 205,
   "metadata": {},
   "outputs": [],
   "source": [
    "prob += hz2 >= a\n",
    "prob += hz2 >= c\n",
    "prob += hz2 >= 1/2\n",
    "\n",
    "prob+= hz2 <= a+1000000*hzPrime2\n",
    "prob+= hz2 <= c+1000000*hzPrime2\n",
    "prob+= hz2 <= 1/2+1000000*(1-hzPrime2)\n",
    "# prob+= hz2 <= a+1000000*hzPrime3\n"
   ]
  },
  {
   "cell_type": "code",
   "execution_count": 206,
   "metadata": {},
   "outputs": [],
   "source": [
    "prob += hz3 >= b\n",
    "prob += hz3 >= c\n",
    "prob += hz3 >= 1/2\n",
    "\n",
    "prob += hz3 <= b + 1000000*hzPrime3\n",
    "prob += hz3 <= c + 1000000*hzPrime3\n",
    "prob += hz3 <= 1/2 + 1000000*(1-hzPrime3)\n",
    "\n",
    "# prob+= hz3 >= a+10000*hzPrime1\n",
    "# prob+= hz3 >= b+10000*hzPrime2\n",
    "# prob+= hz3 >= 1/2+10000*hzPrime3\n"
   ]
  },
  {
   "cell_type": "code",
   "execution_count": 207,
   "metadata": {},
   "outputs": [
    {
     "name": "stdout",
     "output_type": "stream",
     "text": [
      "Status: Optimal\n",
      "A = 0.5\n",
      "B = 0.0\n",
      "C = 0.5\n",
      "Objective value for Upper bound =  0.0\n"
     ]
    }
   ],
   "source": [
    "# run only for Maximization\n",
    "\n",
    "prob.solve()\n",
    "print(\"Status:\", LpStatus[prob.status])\n",
    "print(a.name, \"=\", a.value())\n",
    "print(b.name, \"=\", b.value())\n",
    "print(c.name, \"=\", c.value())\n",
    "print(\"Objective value for Upper bound = \", value(prob.objective))"
   ]
  },
  {
   "cell_type": "code",
   "execution_count": 208,
   "metadata": {},
   "outputs": [
    {
     "name": "stdout",
     "output_type": "stream",
     "text": [
      "Status: Optimal\n",
      "A = 0.5\n",
      "B = 0.0\n",
      "C = 0.5\n",
      "Objective value for lower bound =  0.0\n"
     ]
    }
   ],
   "source": [
    "#Run only for Minimization\n",
    "\n",
    "prob.solve()\n",
    "print(\"Status:\", LpStatus[prob.status])\n",
    "print(a.name, \"=\", a.value())\n",
    "print(b.name, \"=\", b.value())\n",
    "print(c.name, \"=\", c.value())\n",
    "print(\"Objective value for lower bound = \", value(prob.objective))\n",
    "\n"
   ]
  },
  {
   "cell_type": "code",
   "execution_count": 209,
   "metadata": {},
   "outputs": [
    {
     "data": {
      "text/plain": [
       "[A,\n",
       " B,\n",
       " C,\n",
       " HX1,\n",
       " HX2,\n",
       " HX3,\n",
       " HXPrime1,\n",
       " HXPrime2,\n",
       " HXPrime3,\n",
       " HY1,\n",
       " HY2,\n",
       " HY3,\n",
       " HYPrime1,\n",
       " HYPrime2,\n",
       " HYPrime3,\n",
       " HZ1,\n",
       " HZ2,\n",
       " HZ3,\n",
       " HZPrime1,\n",
       " HZPrime2,\n",
       " HZPrime3,\n",
       " P,\n",
       " PPrime]"
      ]
     },
     "execution_count": 209,
     "metadata": {},
     "output_type": "execute_result"
    }
   ],
   "source": [
    "prob.writeLP(\"AA.lp\")\n",
    "\n",
    "#write lp file\n"
   ]
  },
  {
   "cell_type": "code",
   "execution_count": null,
   "metadata": {},
   "outputs": [],
   "source": []
  },
  {
   "cell_type": "code",
   "execution_count": null,
   "metadata": {},
   "outputs": [],
   "source": []
  },
  {
   "cell_type": "code",
   "execution_count": null,
   "metadata": {},
   "outputs": [],
   "source": []
  }
 ],
 "metadata": {
  "kernelspec": {
   "display_name": "Python 3.8.8 ('base')",
   "language": "python",
   "name": "python3"
  },
  "language_info": {
   "codemirror_mode": {
    "name": "ipython",
    "version": 3
   },
   "file_extension": ".py",
   "mimetype": "text/x-python",
   "name": "python",
   "nbconvert_exporter": "python",
   "pygments_lexer": "ipython3",
   "version": "3.8.8"
  },
  "orig_nbformat": 4,
  "vscode": {
   "interpreter": {
    "hash": "f857d427358718d66449f7ffcefee21649585f7f6be60671c1fc26c7917f3531"
   }
  }
 },
 "nbformat": 4,
 "nbformat_minor": 2
}
